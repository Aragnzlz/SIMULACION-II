{
  "nbformat": 4,
  "nbformat_minor": 0,
  "metadata": {
    "colab": {
      "provenance": [],
      "authorship_tag": "ABX9TyO2UKcFX5or4Z1FIsatowLx",
      "include_colab_link": true
    },
    "kernelspec": {
      "name": "python3",
      "display_name": "Python 3"
    },
    "language_info": {
      "name": "python"
    }
  },
  "cells": [
    {
      "cell_type": "markdown",
      "metadata": {
        "id": "view-in-github",
        "colab_type": "text"
      },
      "source": [
        "<a href=\"https://colab.research.google.com/github/Aragnzlz/SIMULACION-II/blob/main/M_de_Importancia(060924).ipynb\" target=\"_parent\"><img src=\"https://colab.research.google.com/assets/colab-badge.svg\" alt=\"Open In Colab\"/></a>"
      ]
    },
    {
      "cell_type": "markdown",
      "source": [
        "## **MUESTREO DE IMPORTANCIA**"
      ],
      "metadata": {
        "id": "O8-FMYCelMmK"
      }
    },
    {
      "cell_type": "code",
      "execution_count": 109,
      "metadata": {
        "id": "iU2ZgjrDky0o"
      },
      "outputs": [],
      "source": [
        "import random as rnd\n",
        "import numpy as np\n",
        "import matplotlib.pyplot as plt\n",
        "import time"
      ]
    },
    {
      "cell_type": "code",
      "source": [
        "start_time = time.time()"
      ],
      "metadata": {
        "id": "tsDMfSWslJEv"
      },
      "execution_count": 110,
      "outputs": []
    },
    {
      "cell_type": "markdown",
      "source": [
        "Dado que\n",
        "$$\n",
        "cos(\\frac{\\pi}{2}x) ≈ 1-x^2\n",
        "$$\n",
        "Podemos utilizar esta función para aplicar el método de muestreo de importancia. Para lo cual debemos primero definir si es una función de densidad.\n",
        "Para demostrar que es una función de densidad se debe satisfacer que:\n",
        "\n",
        "\n",
        "1.   $ g(x) \\geq 0 $, se cumple que $1-x^2$ en el intervalo [0,1]\n",
        "2.   $\\int_{-∞}^{∞} g(x) dx = 1 → \\int_{0}^{1} 1-x^2 dx = 2/3  $\n",
        "\n",
        "Dado que no cumple la funcion, debemos multiplocar por 3/2\n",
        "$$\n",
        "g(x) = \\frac{3}{2}(1-x^2)\n",
        "$$\n",
        "Ahora, utilizamos el metodo de la tranformadad inversa para generar la muestra."
      ],
      "metadata": {
        "id": "AIm-8gAwlef7"
      }
    },
    {
      "cell_type": "code",
      "source": [
        "def f(x):\n",
        "  return np.cos((np.pi/2)*x)"
      ],
      "metadata": {
        "id": "MgIWjedos8aN"
      },
      "execution_count": 111,
      "outputs": []
    },
    {
      "cell_type": "code",
      "source": [
        "x = np.linspace(0, 1, 100)\n",
        "y = f(x)\n",
        "plt.plot(x, y)\n",
        "plt.xlabel('x')\n",
        "plt.ylabel('f(x)')\n",
        "plt.title('Función f(x)')\n",
        "plt.show()"
      ],
      "metadata": {
        "colab": {
          "base_uri": "https://localhost:8080/",
          "height": 472
        },
        "id": "CXXLQ68GtZWE",
        "outputId": "9760062a-00c8-4006-f328-c66d4e907fe9"
      },
      "execution_count": 101,
      "outputs": [
        {
          "output_type": "display_data",
          "data": {
            "text/plain": [
              "<Figure size 640x480 with 1 Axes>"
            ],
            "image/png": "[encoded data removed]"
          },
          "metadata": {}
        }
      ]
    },
    {
      "cell_type": "code",
      "source": [
        "def g(x):\n",
        "    return 1  # Uniforme en [0, 1]"
      ],
      "metadata": {
        "id": "vNAV_apxtthR"
      },
      "execution_count": 112,
      "outputs": []
    },
    {
      "cell_type": "code",
      "source": [
        "def aceptacion(n):\n",
        "  x = 0\n",
        "  C = (3/2)\n",
        "  Lista = []\n",
        "  for i in range(n):\n",
        "    #Generamos una uniforme\n",
        "    u = rnd.random() #Genera números aleatorios entre 0 y 1\n",
        "    y = rnd.random() #Generar la variable y con la distribución de g.\n",
        "    if (u <= f(y)/(C*g(y))):\n",
        "      x = y\n",
        "    Lista.append(x)#Agregamos los elementos a una lista\n",
        "  return Lista"
      ],
      "metadata": {
        "id": "PeqON-ySuAZq"
      },
      "execution_count": 113,
      "outputs": []
    },
    {
      "cell_type": "code",
      "source": [
        "plt.hist(G,bins = 200, color = \"lightblue\")"
      ],
      "metadata": {
        "colab": {
          "base_uri": "https://localhost:8080/",
          "height": 1000
        },
        "id": "lFy-aJa0uINY",
        "outputId": "88bf66a8-d5c2-46e0-8a30-887df56b0f44"
      },
      "execution_count": 114,
      "outputs": [
        {
          "output_type": "execute_result",
          "data": {
            "text/plain": [
              "(array([729., 687., 811., 683., 677., 713., 747., 757., 778., 787., 710.,\n",
              "        740., 695., 697., 657., 716., 733., 708., 740., 746., 791., 702.,\n",
              "        775., 660., 748., 721., 734., 736., 730., 685., 694., 708., 805.,\n",
              "        779., 782., 684., 704., 802., 739., 709., 673., 720., 638., 757.,\n",
              "        773., 738., 818., 736., 694., 667., 646., 751., 698., 686., 644.,\n",
              "        686., 660., 570., 716., 716., 721., 608., 700., 656., 692., 649.,\n",
              "        798., 734., 707., 640., 766., 729., 700., 635., 758., 580., 722.,\n",
              "        632., 649., 664., 618., 554., 658., 591., 586., 651., 609., 604.,\n",
              "        621., 640., 565., 568., 571., 591., 596., 575., 612., 615., 604.,\n",
              "        563., 582., 580., 535., 492., 456., 624., 560., 528., 540., 517.,\n",
              "        468., 494., 557., 567., 381., 488., 449., 459., 478., 458., 481.,\n",
              "        557., 461., 512., 473., 472., 488., 457., 514., 455., 321., 431.,\n",
              "        379., 385., 412., 423., 406., 401., 354., 328., 380., 360., 378.,\n",
              "        367., 302., 399., 369., 343., 373., 285., 340., 331., 272., 317.,\n",
              "        339., 312., 288., 252., 250., 219., 303., 243., 199., 263., 219.,\n",
              "        296., 217., 266., 156., 219., 197., 155., 209., 175., 243., 235.,\n",
              "        169., 169., 146., 132., 123., 147., 154., 111., 113.,  88., 111.,\n",
              "         83.,  78.,  88.,  73.,  71.,  42.,  54.,  38.,  31.,  31.,  16.,\n",
              "         13.,   7.]),\n",
              " array([2.56407313e-06, 4.99656864e-03, 9.99057321e-03, 1.49845778e-02,\n",
              "        1.99785823e-02, 2.49725869e-02, 2.99665915e-02, 3.49605960e-02,\n",
              "        3.99546006e-02, 4.49486052e-02, 4.99426098e-02, 5.49366143e-02,\n",
              "        5.99306189e-02, 6.49246235e-02, 6.99186280e-02, 7.49126326e-02,\n",
              "        7.99066372e-02, 8.49006417e-02, 8.98946463e-02, 9.48886509e-02,\n",
              "        9.98826554e-02, 1.04876660e-01, 1.09870665e-01, 1.14864669e-01,\n",
              "        1.19858674e-01, 1.24852678e-01, 1.29846683e-01, 1.34840687e-01,\n",
              "        1.39834692e-01, 1.44828697e-01, 1.49822701e-01, 1.54816706e-01,\n",
              "        1.59810710e-01, 1.64804715e-01, 1.69798719e-01, 1.74792724e-01,\n",
              "        1.79786729e-01, 1.84780733e-01, 1.89774738e-01, 1.94768742e-01,\n",
              "        1.99762747e-01, 2.04756751e-01, 2.09750756e-01, 2.14744761e-01,\n",
              "        2.19738765e-01, 2.24732770e-01, 2.29726774e-01, 2.34720779e-01,\n",
              "        2.39714783e-01, 2.44708788e-01, 2.49702792e-01, 2.54696797e-01,\n",
              "        2.59690802e-01, 2.64684806e-01, 2.69678811e-01, 2.74672815e-01,\n",
              "        2.79666820e-01, 2.84660824e-01, 2.89654829e-01, 2.94648834e-01,\n",
              "        2.99642838e-01, 3.04636843e-01, 3.09630847e-01, 3.14624852e-01,\n",
              "        3.19618856e-01, 3.24612861e-01, 3.29606866e-01, 3.34600870e-01,\n",
              "        3.39594875e-01, 3.44588879e-01, 3.49582884e-01, 3.54576888e-01,\n",
              "        3.59570893e-01, 3.64564898e-01, 3.69558902e-01, 3.74552907e-01,\n",
              "        3.79546911e-01, 3.84540916e-01, 3.89534920e-01, 3.94528925e-01,\n",
              "        3.99522930e-01, 4.04516934e-01, 4.09510939e-01, 4.14504943e-01,\n",
              "        4.19498948e-01, 4.24492952e-01, 4.29486957e-01, 4.34480961e-01,\n",
              "        4.39474966e-01, 4.44468971e-01, 4.49462975e-01, 4.54456980e-01,\n",
              "        4.59450984e-01, 4.64444989e-01, 4.69438993e-01, 4.74432998e-01,\n",
              "        4.79427003e-01, 4.84421007e-01, 4.89415012e-01, 4.94409016e-01,\n",
              "        4.99403021e-01, 5.04397025e-01, 5.09391030e-01, 5.14385035e-01,\n",
              "        5.19379039e-01, 5.24373044e-01, 5.29367048e-01, 5.34361053e-01,\n",
              "        5.39355057e-01, 5.44349062e-01, 5.49343067e-01, 5.54337071e-01,\n",
              "        5.59331076e-01, 5.64325080e-01, 5.69319085e-01, 5.74313089e-01,\n",
              "        5.79307094e-01, 5.84301099e-01, 5.89295103e-01, 5.94289108e-01,\n",
              "        5.99283112e-01, 6.04277117e-01, 6.09271121e-01, 6.14265126e-01,\n",
              "        6.19259131e-01, 6.24253135e-01, 6.29247140e-01, 6.34241144e-01,\n",
              "        6.39235149e-01, 6.44229153e-01, 6.49223158e-01, 6.54217162e-01,\n",
              "        6.59211167e-01, 6.64205172e-01, 6.69199176e-01, 6.74193181e-01,\n",
              "        6.79187185e-01, 6.84181190e-01, 6.89175194e-01, 6.94169199e-01,\n",
              "        6.99163204e-01, 7.04157208e-01, 7.09151213e-01, 7.14145217e-01,\n",
              "        7.19139222e-01, 7.24133226e-01, 7.29127231e-01, 7.34121236e-01,\n",
              "        7.39115240e-01, 7.44109245e-01, 7.49103249e-01, 7.54097254e-01,\n",
              "        7.59091258e-01, 7.64085263e-01, 7.69079268e-01, 7.74073272e-01,\n",
              "        7.79067277e-01, 7.84061281e-01, 7.89055286e-01, 7.94049290e-01,\n",
              "        7.99043295e-01, 8.04037300e-01, 8.09031304e-01, 8.14025309e-01,\n",
              "        8.19019313e-01, 8.24013318e-01, 8.29007322e-01, 8.34001327e-01,\n",
              "        8.38995332e-01, 8.43989336e-01, 8.48983341e-01, 8.53977345e-01,\n",
              "        8.58971350e-01, 8.63965354e-01, 8.68959359e-01, 8.73953363e-01,\n",
              "        8.78947368e-01, 8.83941373e-01, 8.88935377e-01, 8.93929382e-01,\n",
              "        8.98923386e-01, 9.03917391e-01, 9.08911395e-01, 9.13905400e-01,\n",
              "        9.18899405e-01, 9.23893409e-01, 9.28887414e-01, 9.33881418e-01,\n",
              "        9.38875423e-01, 9.43869427e-01, 9.48863432e-01, 9.53857437e-01,\n",
              "        9.58851441e-01, 9.63845446e-01, 9.68839450e-01, 9.73833455e-01,\n",
              "        9.78827459e-01, 9.83821464e-01, 9.88815469e-01, 9.93809473e-01,\n",
              "        9.98803478e-01]),\n",
              " <BarContainer object of 200 artists>)"
            ]
          },
          "metadata": {},
          "execution_count": 114
        },
        {
          "output_type": "display_data",
          "data": {
            "text/plain": [
              "<Figure size 640x480 with 1 Axes>"
            ],
            "image/png": "[encoded data removed]"
          },
          "metadata": {}
        }
      ]
    },
    {
      "cell_type": "code",
      "source": [
        "def go(x):\n",
        "  return (3/2)*(1-x**2)"
      ],
      "metadata": {
        "id": "jk1DAvnzyKb0"
      },
      "execution_count": 118,
      "outputs": []
    },
    {
      "cell_type": "code",
      "source": [],
      "metadata": {
        "id": "urS4nr_72k2V"
      },
      "execution_count": null,
      "outputs": []
    },
    {
      "cell_type": "code",
      "source": [
        "I = 0\n",
        "G = aceptacion(100000)\n",
        "for i in range(len(G)):\n",
        "  I +=  (1/n)* (f(G[i]) / (3/2)*go(G[i]))\n",
        "print(I)"
      ],
      "metadata": {
        "colab": {
          "base_uri": "https://localhost:8080/"
        },
        "id": "GDQKrE13yI_q",
        "outputId": "6f634471-93de-423a-d512-6e70eb3a39d0"
      },
      "execution_count": 125,
      "outputs": [
        {
          "output_type": "stream",
          "name": "stdout",
          "text": [
            "0.6802543096858513\n"
          ]
        }
      ]
    },
    {
      "cell_type": "code",
      "source": [
        "end_time = time.time()\n"
      ],
      "metadata": {
        "id": "jSImfRYE0Cik"
      },
      "execution_count": 74,
      "outputs": []
    },
    {
      "cell_type": "code",
      "source": [
        "execution_time = end_time - start_time\n",
        "print(f\"Tiempo de ejecución: {execution_time} segundos\")"
      ],
      "metadata": {
        "colab": {
          "base_uri": "https://localhost:8080/"
        },
        "id": "_ZSN4zKJ0RzC",
        "outputId": "e2a56865-c430-43d7-854c-cec99737fc9c"
      },
      "execution_count": 75,
      "outputs": [
        {
          "output_type": "stream",
          "name": "stdout",
          "text": [
            "Tiempo de ejecución: 20.453002452850342 segundos\n"
          ]
        }
      ]
    }
  ]
}