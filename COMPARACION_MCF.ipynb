{
  "nbformat": 4,
  "nbformat_minor": 0,
  "metadata": {
    "colab": {
      "provenance": [],
      "include_colab_link": true
    },
    "kernelspec": {
      "name": "python3",
      "display_name": "Python 3"
    },
    "language_info": {
      "name": "python"
    }
  },
  "cells": [
    {
      "cell_type": "markdown",
      "metadata": {
        "id": "view-in-github",
        "colab_type": "text"
      },
      "source": [
        "<a href=\"https://colab.research.google.com/github/Aragnzlz/SIMULACION-II/blob/main/COMPARACION_MCF.ipynb\" target=\"_parent\"><img src=\"https://colab.research.google.com/assets/colab-badge.svg\" alt=\"Open In Colab\"/></a>"
      ]
    },
    {
      "cell_type": "code",
      "execution_count": 1,
      "metadata": {
        "id": "lX6lmKWqUwpX"
      },
      "outputs": [],
      "source": [
        "import random as rnd\n",
        "import numpy as np\n",
        "import matplotlib.pyplot as plt\n",
        "import time"
      ]
    },
    {
      "cell_type": "markdown",
      "source": [
        "# MEDIA MUESTRAL"
      ],
      "metadata": {
        "id": "xGJuG4b6WbLv"
      }
    },
    {
      "cell_type": "markdown",
      "source": [
        "\n",
        "\n",
        "# **INTEGRACION MC**\n",
        "\n",
        "La integración Monte Carlo se emplea principalmente para aproximar integrales multidimensionales\n",
        "$$\n",
        "\\int ... \\int s(x_1,...x_2)dx_1...dx_n\n",
        "$$\n",
        "donde puede presentar ventajas respecto a los métodos tradicionales de integración numérica ya que la velocidad de convergencia no depende del número de dimensiones.\n",
        "INTEGRACION MC clasica\n",
        "\n",
        "En el caso de que el dominio D sea acotado, la aproximación más simple consiste en considerar una distribución uniforme en D.\n",
        "\n",
        "Por simplicidad nos centraremos en el caso unidimensional (el orden de convergencia es independiente del número de dimensiones). Supongamos que nos interesa aproximar:\n",
        "\n",
        "$$\n",
        "I = \\int_{0}^{1} s(x) dx\n",
        "$$\n",
        "\n",
        "Si $x_1,..,x_,$ iid U(0,1) entonces\n",
        "\n",
        "$$\n",
        "I = E(s(U(0,1))) \\approx \\frac{1}{n} \\sum_{i=1}^{n} s(x_i)\n",
        "$$\n",
        "Si el intervalo de integración es generico\n",
        "$$\n",
        "I = \\int_{a}^{b} s(x) dx = (b-a) \\int_{a}^{b} s(x)  \\frac{1}{b-a} dx = (b-a)  E(s(U(a,b)))\n",
        "$$\n",
        "Por lo tanto\n",
        "\n",
        "$$\n",
        "I \\approx \\frac{b-a}{n} \\sum_{i=1}^{n} s(x_i)\n",
        "$$\n",
        "\n"
      ],
      "metadata": {
        "id": "WP8WJbPvjbA6"
      }
    },
    {
      "cell_type": "code",
      "source": [
        "start_time = time.time()"
      ],
      "metadata": {
        "id": "tNs2BwoelWdV"
      },
      "execution_count": 2,
      "outputs": []
    },
    {
      "cell_type": "code",
      "source": [
        "def g_media(x):       #Esta función calcula las funciones gi(x) y las guarada en una lista\n",
        "  gi=np.cos(np.pi*x/2)\n",
        "  return gi"
      ],
      "metadata": {
        "id": "cBnxK45rVNLQ"
      },
      "execution_count": 3,
      "outputs": []
    },
    {
      "cell_type": "code",
      "source": [
        "def exp_media(n,a,b):\n",
        "  I1 = []\n",
        "  ui=np.random.uniform(0, 1, n)      #Genera n variables ~ U(0,1)\n",
        "  xi=a+ui*(b-a)                      #Calcula lista de Xi\n",
        "  gi=g_media(xi)                           #Calcula lista de g(Xi)\n",
        "  I=(b-a)/n*np.sum(gi)               #Calcula aproximación\n",
        "  return I"
      ],
      "metadata": {
        "id": "VWbogAzqVZY0"
      },
      "execution_count": 4,
      "outputs": []
    },
    {
      "cell_type": "code",
      "source": [
        "def histograma(aprox):                                  #Esta función imprime la estimación y el histograma\n",
        "  plt.hist(aprox, bins=100, color='pink', alpha=0.7)\n",
        "  plt.axvline(np.mean(aprox),label='Media')\n",
        "  plt.xlabel('Valor de la integral')\n",
        "  plt.ylabel('Frecuencia')\n",
        "  plt.legend()\n",
        "  print('Estimación (Media): ', np.mean(aprox))\n",
        "  return"
      ],
      "metadata": {
        "id": "p7sn7H3gVbVw"
      },
      "execution_count": 5,
      "outputs": []
    },
    {
      "cell_type": "code",
      "source": [
        "#Parametros\n",
        "m=1000        #Número de iteraciones\n",
        "n=50           #Tamaño de la experimentos\n",
        "a=0             #Límite inferior de la integral\n",
        "b=1             #Límite superior de la integral\n",
        "aprox_media=[]\n",
        "s = []\n",
        "for i in range(m):\n",
        "  I = exp_media(n,a,b)\n",
        "  aprox_media.append(I)\n",
        "histograma(aprox_media)"
      ],
      "metadata": {
        "colab": {
          "base_uri": "https://localhost:8080/",
          "height": 467
        },
        "id": "BLA2_vWHVe0c",
        "outputId": "30e54d3c-00b2-49f8-e031-cf851adf70ed"
      },
      "execution_count": 6,
      "outputs": [
        {
          "output_type": "stream",
          "name": "stdout",
          "text": [
            "Estimación (Media):  0.6369818137467111\n"
          ]
        },
        {
          "output_type": "display_data",
          "data": {
            "text/plain": [
              "<Figure size 640x480 with 1 Axes>"
            ],
            "image/png": "[encoded data removed]"
          },
          "metadata": {}
        }
      ]
    },
    {
      "cell_type": "code",
      "source": [
        "end_time = time.time()\n",
        "T1 = end_time - start_time\n",
        "print(f\"Tiempo de ejecución: {T1} segundos\")"
      ],
      "metadata": {
        "colab": {
          "base_uri": "https://localhost:8080/"
        },
        "id": "dl9sFq86lbBK",
        "outputId": "1ef538f1-5661-4d25-82ef-c7a9cc58b4a2"
      },
      "execution_count": 7,
      "outputs": [
        {
          "output_type": "stream",
          "name": "stdout",
          "text": [
            "Tiempo de ejecución: 15.407499313354492 segundos\n"
          ]
        }
      ]
    },
    {
      "cell_type": "code",
      "source": [
        "mu = np.mean(aprox_media)\n",
        "print(mu)\n",
        "sigma_mean = np.var(aprox_media)\n",
        "print(sigma_mean)"
      ],
      "metadata": {
        "colab": {
          "base_uri": "https://localhost:8080/"
        },
        "id": "uC4XddHFV2Is",
        "outputId": "f7a5f503-50bf-4f7a-f922-32cb472d75ca"
      },
      "execution_count": 8,
      "outputs": [
        {
          "output_type": "stream",
          "name": "stdout",
          "text": [
            "0.6369818137467111\n",
            "0.0019195576929550901\n"
          ]
        }
      ]
    },
    {
      "cell_type": "markdown",
      "source": [
        "# ACIERTO Y ERROR"
      ],
      "metadata": {
        "id": "-vPV5QGeWgBN"
      }
    },
    {
      "cell_type": "markdown",
      "source": [
        "Este método consiste en lo siguiente:\n",
        " 1. Supongamos que queremos aproximar la integral $$ \\int_a^b f(x) \\, dx $$ y que sabemos que la función $f(x)$ está acotada por un valor $M$, es decir, $ 0 \\leq f(x) \\leq M$ en el intervalo $ [a, b] $.\n",
        "\n",
        " 2. Generamos $N$ puntos aleatorios dentro de un rectángulo de base $ b - a $ y altura $ M $. Es decir, los puntos $ (x_i, y_i) $ son generados aleatoriamente con $ x_i \\in [a, b] $ y $ y_i \\in [0, M] $.\n",
        "\n",
        " 3. Contamos cuántos de esos puntos caen debajo de la curva de la función \\( f(x) \\), es decir, cuántos puntos $(x_i, y_i)$ cumplen con $ y_i \\leq f(x_i)$\n",
        "\n",
        "Para aproximar la integral utilizaremos la media dada de la siguiente forma:\n",
        "\n",
        " $$I \\approx \\frac{\\text{Aciertos}}{N}$$\n"
      ],
      "metadata": {
        "id": "rYevJTWLjvu0"
      }
    },
    {
      "cell_type": "code",
      "source": [
        "start_time = time.time()"
      ],
      "metadata": {
        "id": "RjDPx7fYlqQY"
      },
      "execution_count": 9,
      "outputs": []
    },
    {
      "cell_type": "code",
      "source": [
        "def g(x):       #Esta función calcula las funciones gi(x) y las guarada en una lista\n",
        "  gi=np.cos(np.pi*x/2)\n",
        "  return gi"
      ],
      "metadata": {
        "id": "syY4dV2LaN58"
      },
      "execution_count": 10,
      "outputs": []
    },
    {
      "cell_type": "code",
      "source": [
        "def aceptacion_rechazo(n,ui1,ui2,gi,a,b,c):     #Esta función aplica la condición de Aceptación y rechazo\n",
        "  aciertos=0\n",
        "  prob = []\n",
        "  inside = []\n",
        "  outside = []\n",
        "  for i in range(n): #u0,u1\n",
        "    if c*ui2[i] < gi[i-1]:                #Condición de aceptación\n",
        "      aciertos+=1\n",
        "      prob.append(aciertos/(i+1))\n",
        "\n",
        "  for i in range(n): #Calcula los puntos que caen dentro y fuera de la función\n",
        "    if ui2[i] <= g(ui1[i]):\n",
        "     inside.append((ui1[i], ui2[i]))\n",
        "    else:\n",
        "     outside.append((ui1[i], ui2[i]))\n",
        "\n",
        "  I=c*(b-a)*aciertos/n                #Calcula la estimación mediante la media muestral\n",
        "  return I,inside,outside,prob"
      ],
      "metadata": {
        "id": "hk3zI7GVWmhX"
      },
      "execution_count": 11,
      "outputs": []
    },
    {
      "cell_type": "code",
      "source": [
        "def exp(n,a,b,c):                           #Esta función realiza los experimentos\n",
        "  ui1=np.random.uniform(0, 1, n)            #Genera primer número aleatorio\n",
        "  ui2=np.random.uniform(0, 1, n)            #Genera segundo número aleatorio\n",
        "  xi=a+ui1*(b-a)                            #Calcula la lista Xi\n",
        "  gi=g(xi)                          #Calcula la lista gi\n",
        "  [I,inside,outside,prob] = aceptacion_rechazo(n,ui1,ui2,gi,a,b,c)\n",
        "  return I,inside,outside,prob"
      ],
      "metadata": {
        "id": "3gighGY9cr8E"
      },
      "execution_count": 12,
      "outputs": []
    },
    {
      "cell_type": "code",
      "source": [
        "#Simulacion\n",
        "#Parametros\n",
        "m=2356                        #Número de iteraciones\n",
        "n=50                            #Tamaño de la experimentos\n",
        "a=0                             #Límite inferior de la integral\n",
        "b=1                             #Límite superior de la integral\n",
        "c=np.sqrt(np.arctan(1))         #Cota superior g(x)<c\n",
        "aprox=[]\n",
        "x_inside=[]\n",
        "y_inside=[]\n",
        "x_outside=[]\n",
        "y_outside=[]\n",
        "for i in range(m):             #Simulación de m experimentos\n",
        "  [I,inside,outside,prob] = exp(n,a,b,c)\n",
        "  aprox.append(I)\n",
        "histograma(aprox)"
      ],
      "metadata": {
        "colab": {
          "base_uri": "https://localhost:8080/",
          "height": 467
        },
        "id": "AmxawM2Ecx4L",
        "outputId": "f56a2f46-c678-47f6-f14b-a0b7b081d11b"
      },
      "execution_count": 13,
      "outputs": [
        {
          "output_type": "stream",
          "name": "stdout",
          "text": [
            "Estimación (Media):  0.6142350047157545\n"
          ]
        },
        {
          "output_type": "display_data",
          "data": {
            "text/plain": [
              "<Figure size 640x480 with 1 Axes>"
            ],
            "image/png": "[encoded data removed]"
          },
          "metadata": {}
        }
      ]
    },
    {
      "cell_type": "code",
      "source": [
        "end_time = time.time()\n",
        "T2 = end_time - start_time\n",
        "print(f\"Tiempo de ejecución: {T2} segundos\")"
      ],
      "metadata": {
        "colab": {
          "base_uri": "https://localhost:8080/"
        },
        "id": "MCeoJL17lmD-",
        "outputId": "9e43ccfc-980c-47bf-ce5d-34d83f4b3f56"
      },
      "execution_count": 14,
      "outputs": [
        {
          "output_type": "stream",
          "name": "stdout",
          "text": [
            "Tiempo de ejecución: 11.996362447738647 segundos\n"
          ]
        }
      ]
    },
    {
      "cell_type": "code",
      "source": [
        "mu = np.mean(aprox)\n",
        "print(mu)\n",
        "sigma_ae = np.var(aprox)\n",
        "print(sigma_ae)"
      ],
      "metadata": {
        "colab": {
          "base_uri": "https://localhost:8080/"
        },
        "id": "QrlmmGVUUy_b",
        "outputId": "f101034f-de9d-49ce-8e85-5c5a91b0f44c"
      },
      "execution_count": 15,
      "outputs": [
        {
          "output_type": "stream",
          "name": "stdout",
          "text": [
            "0.6142350047157545\n",
            "0.003307841350988846\n"
          ]
        }
      ]
    },
    {
      "cell_type": "markdown",
      "source": [
        "# MUESTREO DE IMPORTANCIA"
      ],
      "metadata": {
        "id": "9vlZzKhnWnSS"
      }
    },
    {
      "cell_type": "markdown",
      "source": [
        "Dado que\n",
        "$$\n",
        "cos(\\frac{\\pi}{2}x) ≈ 1-x^2\n",
        "$$\n",
        "Podemos utilizar esta función para aplicar el método de muestreo de importancia. Para lo cual debemos primero definir si es una función de densidad.\n",
        "Para demostrar que es una función de densidad se debe satisfacer que:\n",
        "\n",
        "\n",
        "1.   $ g(x) \\geq 0 $, se cumple que $1-x^2$ en el intervalo [0,1]\n",
        "2.   $\\int_{-∞}^{∞} g(x) dx = 1 → \\int_{0}^{1} 1-x^2 dx = 2/3  $\n",
        "\n",
        "Dado que no cumple la funcion, debemos multiplocar por 3/2\n",
        "$$\n",
        "g(x) = \\frac{3}{2}(1-x^2)\n",
        "$$\n",
        "Ahora, utilizamos el método de aceptación y rechazo inversa para generar la muestra."
      ],
      "metadata": {
        "id": "OtIksYmtdrt1"
      }
    },
    {
      "cell_type": "code",
      "source": [
        "start_time = time.time()"
      ],
      "metadata": {
        "id": "grwf2sZllv7e"
      },
      "execution_count": 16,
      "outputs": []
    },
    {
      "cell_type": "code",
      "source": [
        "def f(x):\n",
        "  return (3/2)*(1-x**2)"
      ],
      "metadata": {
        "id": "F9TtLUUcWxAE"
      },
      "execution_count": 17,
      "outputs": []
    },
    {
      "cell_type": "code",
      "source": [
        "def g(x):\n",
        "    return 1  # Uniforme en [0, 1]"
      ],
      "metadata": {
        "id": "uFjT_-ogd0MN"
      },
      "execution_count": 18,
      "outputs": []
    },
    {
      "cell_type": "code",
      "source": [
        "def aceptacion(n):\n",
        "  x = 0\n",
        "  C = (3/2)\n",
        "  Lista = []\n",
        "  for i in range(n):\n",
        "    #Generamos una uniforme\n",
        "    u = rnd.random() #Genera números aleatorios entre 0 y 1\n",
        "    y = rnd.random() #Generar la variable y con la distribución de g.\n",
        "    if (u <= f(y)/(C*g(y))):\n",
        "      x = y\n",
        "    Lista.append(x)#Agregamos los elementos a una lista\n",
        "  return Lista"
      ],
      "metadata": {
        "id": "NY8gLwXMd0Kp"
      },
      "execution_count": 19,
      "outputs": []
    },
    {
      "cell_type": "code",
      "source": [
        "G = aceptacion(100000)"
      ],
      "metadata": {
        "id": "GtGyBrG1rRmb"
      },
      "execution_count": 20,
      "outputs": []
    },
    {
      "cell_type": "code",
      "source": [
        "plt.hist(G,bins = 200, color = \"lightblue\")"
      ],
      "metadata": {
        "colab": {
          "base_uri": "https://localhost:8080/",
          "height": 1000
        },
        "id": "gIKnFZhjd57i",
        "outputId": "dd448bf6-68ed-46ce-fca1-4bb0a0f52c7a"
      },
      "execution_count": 21,
      "outputs": [
        {
          "output_type": "execute_result",
          "data": {
            "text/plain": [
              "(array([747., 780., 770., 798., 840., 771., 712., 744., 746., 813., 688.,\n",
              "        759., 674., 781., 764., 741., 765., 741., 760., 787., 801., 723.,\n",
              "        744., 746., 745., 737., 701., 704., 756., 697., 667., 756., 733.,\n",
              "        764., 696., 685., 729., 687., 717., 696., 740., 716., 714., 697.,\n",
              "        702., 704., 659., 636., 709., 693., 672., 692., 733., 711., 692.,\n",
              "        701., 700., 659., 698., 662., 682., 659., 640., 675., 711., 672.,\n",
              "        637., 688., 739., 614., 670., 688., 674., 624., 652., 623., 694.,\n",
              "        627., 686., 617., 669., 660., 584., 600., 638., 695., 639., 590.,\n",
              "        558., 595., 582., 512., 599., 581., 583., 527., 580., 571., 561.,\n",
              "        556., 581., 553., 511., 519., 493., 613., 593., 510., 536., 517.,\n",
              "        467., 551., 573., 525., 453., 503., 511., 476., 448., 444., 580.,\n",
              "        519., 491., 459., 405., 501., 428., 405., 431., 483., 480., 446.,\n",
              "        442., 357., 462., 387., 404., 406., 360., 432., 392., 355., 394.,\n",
              "        389., 368., 298., 393., 329., 359., 332., 332., 316., 316., 322.,\n",
              "        271., 290., 272., 298., 234., 266., 266., 262., 265., 234., 247.,\n",
              "        235., 243., 226., 231., 206., 219., 212., 184., 126., 163., 161.,\n",
              "        115., 166., 144., 152., 133., 129., 148., 125.,  97., 112., 103.,\n",
              "         65.,  81.,  86.,  79.,  51.,  45.,  48.,  53.,  31.,  40.,  19.,\n",
              "          5.,   5.]),\n",
              " array([4.42747102e-06, 5.00237189e-03, 1.00003163e-02, 1.49982607e-02,\n",
              "        1.99962052e-02, 2.49941496e-02, 2.99920940e-02, 3.49900384e-02,\n",
              "        3.99879829e-02, 4.49859273e-02, 4.99838717e-02, 5.49818161e-02,\n",
              "        5.99797605e-02, 6.49777050e-02, 6.99756494e-02, 7.49735938e-02,\n",
              "        7.99715382e-02, 8.49694827e-02, 8.99674271e-02, 9.49653715e-02,\n",
              "        9.99633159e-02, 1.04961260e-01, 1.09959205e-01, 1.14957149e-01,\n",
              "        1.19955094e-01, 1.24953038e-01, 1.29950982e-01, 1.34948927e-01,\n",
              "        1.39946871e-01, 1.44944816e-01, 1.49942760e-01, 1.54940705e-01,\n",
              "        1.59938649e-01, 1.64936593e-01, 1.69934538e-01, 1.74932482e-01,\n",
              "        1.79930427e-01, 1.84928371e-01, 1.89926316e-01, 1.94924260e-01,\n",
              "        1.99922204e-01, 2.04920149e-01, 2.09918093e-01, 2.14916038e-01,\n",
              "        2.19913982e-01, 2.24911927e-01, 2.29909871e-01, 2.34907815e-01,\n",
              "        2.39905760e-01, 2.44903704e-01, 2.49901649e-01, 2.54899593e-01,\n",
              "        2.59897537e-01, 2.64895482e-01, 2.69893426e-01, 2.74891371e-01,\n",
              "        2.79889315e-01, 2.84887260e-01, 2.89885204e-01, 2.94883148e-01,\n",
              "        2.99881093e-01, 3.04879037e-01, 3.09876982e-01, 3.14874926e-01,\n",
              "        3.19872871e-01, 3.24870815e-01, 3.29868759e-01, 3.34866704e-01,\n",
              "        3.39864648e-01, 3.44862593e-01, 3.49860537e-01, 3.54858481e-01,\n",
              "        3.59856426e-01, 3.64854370e-01, 3.69852315e-01, 3.74850259e-01,\n",
              "        3.79848204e-01, 3.84846148e-01, 3.89844092e-01, 3.94842037e-01,\n",
              "        3.99839981e-01, 4.04837926e-01, 4.09835870e-01, 4.14833815e-01,\n",
              "        4.19831759e-01, 4.24829703e-01, 4.29827648e-01, 4.34825592e-01,\n",
              "        4.39823537e-01, 4.44821481e-01, 4.49819426e-01, 4.54817370e-01,\n",
              "        4.59815314e-01, 4.64813259e-01, 4.69811203e-01, 4.74809148e-01,\n",
              "        4.79807092e-01, 4.84805036e-01, 4.89802981e-01, 4.94800925e-01,\n",
              "        4.99798870e-01, 5.04796814e-01, 5.09794759e-01, 5.14792703e-01,\n",
              "        5.19790647e-01, 5.24788592e-01, 5.29786536e-01, 5.34784481e-01,\n",
              "        5.39782425e-01, 5.44780370e-01, 5.49778314e-01, 5.54776258e-01,\n",
              "        5.59774203e-01, 5.64772147e-01, 5.69770092e-01, 5.74768036e-01,\n",
              "        5.79765981e-01, 5.84763925e-01, 5.89761869e-01, 5.94759814e-01,\n",
              "        5.99757758e-01, 6.04755703e-01, 6.09753647e-01, 6.14751591e-01,\n",
              "        6.19749536e-01, 6.24747480e-01, 6.29745425e-01, 6.34743369e-01,\n",
              "        6.39741314e-01, 6.44739258e-01, 6.49737202e-01, 6.54735147e-01,\n",
              "        6.59733091e-01, 6.64731036e-01, 6.69728980e-01, 6.74726925e-01,\n",
              "        6.79724869e-01, 6.84722813e-01, 6.89720758e-01, 6.94718702e-01,\n",
              "        6.99716647e-01, 7.04714591e-01, 7.09712536e-01, 7.14710480e-01,\n",
              "        7.19708424e-01, 7.24706369e-01, 7.29704313e-01, 7.34702258e-01,\n",
              "        7.39700202e-01, 7.44698146e-01, 7.49696091e-01, 7.54694035e-01,\n",
              "        7.59691980e-01, 7.64689924e-01, 7.69687869e-01, 7.74685813e-01,\n",
              "        7.79683757e-01, 7.84681702e-01, 7.89679646e-01, 7.94677591e-01,\n",
              "        7.99675535e-01, 8.04673480e-01, 8.09671424e-01, 8.14669368e-01,\n",
              "        8.19667313e-01, 8.24665257e-01, 8.29663202e-01, 8.34661146e-01,\n",
              "        8.39659091e-01, 8.44657035e-01, 8.49654979e-01, 8.54652924e-01,\n",
              "        8.59650868e-01, 8.64648813e-01, 8.69646757e-01, 8.74644701e-01,\n",
              "        8.79642646e-01, 8.84640590e-01, 8.89638535e-01, 8.94636479e-01,\n",
              "        8.99634424e-01, 9.04632368e-01, 9.09630312e-01, 9.14628257e-01,\n",
              "        9.19626201e-01, 9.24624146e-01, 9.29622090e-01, 9.34620035e-01,\n",
              "        9.39617979e-01, 9.44615923e-01, 9.49613868e-01, 9.54611812e-01,\n",
              "        9.59609757e-01, 9.64607701e-01, 9.69605646e-01, 9.74603590e-01,\n",
              "        9.79601534e-01, 9.84599479e-01, 9.89597423e-01, 9.94595368e-01,\n",
              "        9.99593312e-01]),\n",
              " <BarContainer object of 200 artists>)"
            ]
          },
          "metadata": {},
          "execution_count": 21
        },
        {
          "output_type": "display_data",
          "data": {
            "text/plain": [
              "<Figure size 640x480 with 1 Axes>"
            ],
            "image/png": "[encoded data removed]"
          },
          "metadata": {}
        }
      ]
    },
    {
      "cell_type": "code",
      "source": [
        "def go(x):\n",
        "  return np.cos((np.pi*x)/2)"
      ],
      "metadata": {
        "id": "IQYexSzwd77-"
      },
      "execution_count": 22,
      "outputs": []
    },
    {
      "cell_type": "code",
      "source": [
        "def expm(n,a,b):\n",
        "  I = 0\n",
        "  G = aceptacion(n)\n",
        "  for i in range(n):\n",
        "     I +=  (1/n) * (go(G[i])/f(G[i]))\n",
        "  return I"
      ],
      "metadata": {
        "id": "_RYLGe2V1wqD"
      },
      "execution_count": 23,
      "outputs": []
    },
    {
      "cell_type": "code",
      "source": [
        "#Parametros\n",
        "m=1000        #Número de iteraciones\n",
        "n=50           #Tamaño de la experimentos\n",
        "a=0             #Límite inferior de la integral\n",
        "b=1             #Límite superior de la integral\n",
        "aprox=[]\n",
        "s = []\n",
        "for i in range(m):\n",
        "  I = expm(n,a,b)\n",
        "  aprox.append(I)\n",
        "histograma(aprox)"
      ],
      "metadata": {
        "colab": {
          "base_uri": "https://localhost:8080/",
          "height": 467
        },
        "id": "NzWp0-D03cmw",
        "outputId": "91f3ae0c-401e-44c5-d70d-c3af0acb337b"
      },
      "execution_count": 24,
      "outputs": [
        {
          "output_type": "stream",
          "name": "stdout",
          "text": [
            "Estimación (Media):  0.6371247566599004\n"
          ]
        },
        {
          "output_type": "display_data",
          "data": {
            "text/plain": [
              "<Figure size 640x480 with 1 Axes>"
            ],
            "image/png": "[encoded data removed]"
          },
          "metadata": {}
        }
      ]
    },
    {
      "cell_type": "code",
      "source": [
        "end_time = time.time()\n",
        "T3 = end_time - start_time\n",
        "print(f\"Tiempo de ejecución: {T1} segundos\")"
      ],
      "metadata": {
        "colab": {
          "base_uri": "https://localhost:8080/"
        },
        "id": "Tpm2tPuSlnrW",
        "outputId": "b3377719-ed0f-4754-8d93-3febff34de06"
      },
      "execution_count": 25,
      "outputs": [
        {
          "output_type": "stream",
          "name": "stdout",
          "text": [
            "Tiempo de ejecución: 15.407499313354492 segundos\n"
          ]
        }
      ]
    },
    {
      "cell_type": "code",
      "source": [
        "mu = np.mean(aprox)\n",
        "print(mu)\n",
        "sigma_im = np.var(aprox)\n",
        "print(sigma_im)"
      ],
      "metadata": {
        "colab": {
          "base_uri": "https://localhost:8080/"
        },
        "id": "j3EC2WqpU1Qs",
        "outputId": "59e827e8-970f-46ac-eda0-10c34afe1993"
      },
      "execution_count": 26,
      "outputs": [
        {
          "output_type": "stream",
          "name": "stdout",
          "text": [
            "0.6371247566599004\n",
            "3.742534215306458e-05\n"
          ]
        }
      ]
    },
    {
      "cell_type": "markdown",
      "source": [
        "##EFICIENCIA"
      ],
      "metadata": {
        "id": "8TOTHBQjm692"
      }
    },
    {
      "cell_type": "markdown",
      "source": [
        "Suponga dos métodos MC para estimar $I = \\int_{a}^{b} g(x) dx$ \\\\\n",
        "Sean $Θ_1$ y $Θ_2$ las estimaciones producidas\n",
        "$$E[Θ_1] = E[Θ_2] = I $$\n",
        "Sean $t_1$ y $t_2$ los tiempos de computo requeridos para evaluar $Θ_1$ y $Θ_2$, respectivamente.\n",
        "Diremos que el primer método es más eficiente que el segundo si:\n",
        "$$\n",
        "\\epsilon = \\frac{t_1var\\theta_1}{t_2var\\theta_2} < 1\n",
        "$$"
      ],
      "metadata": {
        "id": "qxsXEC8-mwV9"
      }
    },
    {
      "cell_type": "code",
      "source": [
        "# Tabla de tiempos y varianzas de cada método\n",
        "\n",
        "from tabulate import tabulate # Importamos libreria para nuestra tabla\n",
        "\n",
        "resultados = [\n",
        "    [ 'Media muestral', f'{T1:.4f}', f'{sigma_mean:.4f}'],\n",
        "    [ 'Acierto y error', f'{T2:.4f}', f'{sigma_ae:.4f}'],\n",
        "    [ 'Muestreo de importancia', f'{T3:.4f}', f'{sigma_im:.4f}']\n",
        "]\n",
        "\n",
        "# Encabezados\n",
        "headers = ['Método', 'Tiempo', 'Varianza']\n",
        "\n",
        "# Crear la tabla\n",
        "tabla = tabulate(resultados, headers, tablefmt='grid')\n",
        "\n",
        "# Mostrar la tabla\n",
        "print(tabla)\n"
      ],
      "metadata": {
        "id": "zbU74QpHwFgr",
        "colab": {
          "base_uri": "https://localhost:8080/"
        },
        "outputId": "d15a1dde-507c-4699-a8e5-b957ee9f7dba"
      },
      "execution_count": 27,
      "outputs": [
        {
          "output_type": "stream",
          "name": "stdout",
          "text": [
            "+-------------------------+----------+------------+\n",
            "| Método                  |   Tiempo |   Varianza |\n",
            "+=========================+==========+============+\n",
            "| Media muestral          |  15.4075 |     0.0019 |\n",
            "+-------------------------+----------+------------+\n",
            "| Acierto y error         |  11.9964 |     0.0033 |\n",
            "+-------------------------+----------+------------+\n",
            "| Muestreo de importancia |  19.283  |     0      |\n",
            "+-------------------------+----------+------------+\n"
          ]
        }
      ]
    },
    {
      "cell_type": "code",
      "source": [
        "epsilon1= (T1*sigma_mean)/(T2*sigma_ae) # Media muestral vs acierto y error\n",
        "epsilon2= (T1*sigma_mean)/(T3*sigma_im) # Media muestral vs muestreo de importancia\n",
        "epsilon3= (T2*sigma_ae)/(T1*sigma_mean) # Acierto y error vs media muestral\n",
        "epsilon4= (T2*sigma_ae)/(T3*sigma_im) # Acierto y error vs muestreo de importancia\n",
        "epsilon5= (T3*sigma_im)/(T1*sigma_mean) # Muestreo de importancia vs media muestral\n",
        "epsilon6= (T3*sigma_im)/(T2*sigma_ae) # Muestreo de importancia vs acierto y error\n",
        "\n",
        "# Crear lista de comparaciones\n",
        "comparaciones = [\n",
        "    ['Media muestral', ' - ', f'{epsilon1:.4f}', f'{epsilon2:.4f}'],\n",
        "    ['Acierto y error', f'{epsilon3:.4f}', ' - ', f'{epsilon4:.4f}'],\n",
        "    ['Muestreo de importancia', f'{epsilon5:.4f}', f'{epsilon6:.4f}', ' - ']\n",
        "]\n",
        "\n",
        "# Encabezados\n",
        "headers = ['vs', 'Media muestral', 'Acierto y error', 'Muestreo de importancia']\n",
        "\n",
        "# Crear la tabla\n",
        "tabla1 = tabulate(comparaciones, headers, tablefmt='grid')\n",
        "\n",
        "# Mostrar la tabla\n",
        "print(tabla1)"
      ],
      "metadata": {
        "colab": {
          "base_uri": "https://localhost:8080/"
        },
        "id": "T_nRBqCweHOq",
        "outputId": "860bb187-a0c8-48f2-87b0-d8747595f958"
      },
      "execution_count": 31,
      "outputs": [
        {
          "output_type": "stream",
          "name": "stdout",
          "text": [
            "+-------------------------+------------------+-------------------+---------------------------+\n",
            "| vs                      | Media muestral   | Acierto y error   | Muestreo de importancia   |\n",
            "+=========================+==================+===================+===========================+\n",
            "| Media muestral          | -                | 0.7453            | 40.9820                   |\n",
            "+-------------------------+------------------+-------------------+---------------------------+\n",
            "| Acierto y error         | 1.3417           | -                 | 54.9863                   |\n",
            "+-------------------------+------------------+-------------------+---------------------------+\n",
            "| Muestreo de importancia | 0.0244           | 0.0182            | -                         |\n",
            "+-------------------------+------------------+-------------------+---------------------------+\n"
          ]
        }
      ]
    },
    {
      "cell_type": "markdown",
      "source": [
        "En la tabla anterior se muestra que el método de muestreo de importancia suele ser más eficiente que el de media muestral y acierto error, dado que al aplicar la formula anterior el resultado es menor que uno. \\\\\n",
        "Mientras que el de acierto y error suele ser más eficiente que el de media muestral."
      ],
      "metadata": {
        "id": "kyo-RExTfjLp"
      }
    }
  ]
}